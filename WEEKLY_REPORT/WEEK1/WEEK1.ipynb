{
 "cells": [
  {
   "cell_type": "markdown",
   "metadata": {},
   "source": [
    "# week 1\n",
    "# Ovmniversy\n",
    "\n",
    "# ISAAC SIM\n",
    "# Vmware\n",
    "# CNN part 1\n",
    "    卷积\n",
    "    \n",
    "# pytorch\n",
    "\n"
   ]
  }
 ],
 "metadata": {
  "language_info": {
   "name": "python"
  }
 },
 "nbformat": 4,
 "nbformat_minor": 2
}
